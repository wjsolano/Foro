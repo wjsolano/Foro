{
 "cells": [
  {
   "cell_type": "markdown",
   "id": "8b6f603c",
   "metadata": {
    "id": "8b6f603c"
   },
   "source": [
    "<center><h1>Inteligencia Artificial</header1></center>"
   ]
  },
  {
   "cell_type": "markdown",
   "id": "3eb1aaac",
   "metadata": {
    "id": "3eb1aaac"
   },
   "source": [
    "Presentado por: Wilmer Solano  <br>\n",
    "Fecha: 27/07/2022"
   ]
  },
  {
   "cell_type": "markdown",
   "id": "1dec299b",
   "metadata": {
    "ExecuteTime": {
     "end_time": "2022-03-14T15:14:04.930713Z",
     "start_time": "2022-03-14T15:14:04.921682Z"
    },
    "id": "1dec299b"
   },
   "source": [
    "# Importación de librerias necesarias"
   ]
  },
  {
   "cell_type": "code",
   "execution_count": 1,
   "id": "6d1abf7a",
   "metadata": {
    "ExecuteTime": {
     "end_time": "2022-03-14T15:14:46.228059Z",
     "start_time": "2022-03-14T15:14:46.223108Z"
    },
    "id": "6d1abf7a"
   },
   "outputs": [],
   "source": [
    "#Para esta actividad se importarán las siguientes librerías:\n",
    "#Importando paquetes\n",
    "from sklearn.model_selection import train_test_split\n",
    "from sklearn import svm\n",
    "from sklearn import metrics\n",
    "import pandas as pd"
   ]
  },
  {
   "cell_type": "markdown",
   "id": "6a44b924",
   "metadata": {
    "id": "6a44b924"
   },
   "source": [
    "## Cargar el Dataset"
   ]
  },
  {
   "cell_type": "code",
   "execution_count": 3,
   "id": "3541e808",
   "metadata": {
    "colab": {
     "base_uri": "https://localhost:8080/",
     "height": 300
    },
    "id": "3541e808",
    "outputId": "15761cb1-4f68-4f27-c73b-1f96bdf33fc6"
   },
   "outputs": [
    {
     "data": {
      "text/html": [
       "<div>\n",
       "<style scoped>\n",
       "    .dataframe tbody tr th:only-of-type {\n",
       "        vertical-align: middle;\n",
       "    }\n",
       "\n",
       "    .dataframe tbody tr th {\n",
       "        vertical-align: top;\n",
       "    }\n",
       "\n",
       "    .dataframe thead th {\n",
       "        text-align: right;\n",
       "    }\n",
       "</style>\n",
       "<table border=\"1\" class=\"dataframe\">\n",
       "  <thead>\n",
       "    <tr style=\"text-align: right;\">\n",
       "      <th></th>\n",
       "      <th>HeartDiseaseorAttack</th>\n",
       "      <th>HighBP</th>\n",
       "      <th>HighChol</th>\n",
       "      <th>CholCheck</th>\n",
       "      <th>BMI</th>\n",
       "      <th>Smoker</th>\n",
       "      <th>Stroke</th>\n",
       "      <th>Diabetes</th>\n",
       "      <th>PhysActivity</th>\n",
       "      <th>Fruits</th>\n",
       "      <th>...</th>\n",
       "      <th>AnyHealthcare</th>\n",
       "      <th>NoDocbcCost</th>\n",
       "      <th>GenHlth</th>\n",
       "      <th>MentHlth</th>\n",
       "      <th>PhysHlth</th>\n",
       "      <th>DiffWalk</th>\n",
       "      <th>Sex</th>\n",
       "      <th>Age</th>\n",
       "      <th>Education</th>\n",
       "      <th>Income</th>\n",
       "    </tr>\n",
       "  </thead>\n",
       "  <tbody>\n",
       "    <tr>\n",
       "      <th>0</th>\n",
       "      <td>0.0</td>\n",
       "      <td>1.0</td>\n",
       "      <td>1.0</td>\n",
       "      <td>1.0</td>\n",
       "      <td>40.0</td>\n",
       "      <td>1.0</td>\n",
       "      <td>0.0</td>\n",
       "      <td>0.0</td>\n",
       "      <td>0.0</td>\n",
       "      <td>0.0</td>\n",
       "      <td>...</td>\n",
       "      <td>1.0</td>\n",
       "      <td>0.0</td>\n",
       "      <td>5.0</td>\n",
       "      <td>18.0</td>\n",
       "      <td>15.0</td>\n",
       "      <td>1.0</td>\n",
       "      <td>0.0</td>\n",
       "      <td>9.0</td>\n",
       "      <td>4.0</td>\n",
       "      <td>3.0</td>\n",
       "    </tr>\n",
       "    <tr>\n",
       "      <th>1</th>\n",
       "      <td>0.0</td>\n",
       "      <td>0.0</td>\n",
       "      <td>0.0</td>\n",
       "      <td>0.0</td>\n",
       "      <td>25.0</td>\n",
       "      <td>1.0</td>\n",
       "      <td>0.0</td>\n",
       "      <td>0.0</td>\n",
       "      <td>1.0</td>\n",
       "      <td>0.0</td>\n",
       "      <td>...</td>\n",
       "      <td>0.0</td>\n",
       "      <td>1.0</td>\n",
       "      <td>3.0</td>\n",
       "      <td>0.0</td>\n",
       "      <td>0.0</td>\n",
       "      <td>0.0</td>\n",
       "      <td>0.0</td>\n",
       "      <td>7.0</td>\n",
       "      <td>6.0</td>\n",
       "      <td>1.0</td>\n",
       "    </tr>\n",
       "    <tr>\n",
       "      <th>2</th>\n",
       "      <td>0.0</td>\n",
       "      <td>1.0</td>\n",
       "      <td>1.0</td>\n",
       "      <td>1.0</td>\n",
       "      <td>28.0</td>\n",
       "      <td>0.0</td>\n",
       "      <td>0.0</td>\n",
       "      <td>0.0</td>\n",
       "      <td>0.0</td>\n",
       "      <td>1.0</td>\n",
       "      <td>...</td>\n",
       "      <td>1.0</td>\n",
       "      <td>1.0</td>\n",
       "      <td>5.0</td>\n",
       "      <td>30.0</td>\n",
       "      <td>30.0</td>\n",
       "      <td>1.0</td>\n",
       "      <td>0.0</td>\n",
       "      <td>9.0</td>\n",
       "      <td>4.0</td>\n",
       "      <td>8.0</td>\n",
       "    </tr>\n",
       "    <tr>\n",
       "      <th>3</th>\n",
       "      <td>0.0</td>\n",
       "      <td>1.0</td>\n",
       "      <td>0.0</td>\n",
       "      <td>1.0</td>\n",
       "      <td>27.0</td>\n",
       "      <td>0.0</td>\n",
       "      <td>0.0</td>\n",
       "      <td>0.0</td>\n",
       "      <td>1.0</td>\n",
       "      <td>1.0</td>\n",
       "      <td>...</td>\n",
       "      <td>1.0</td>\n",
       "      <td>0.0</td>\n",
       "      <td>2.0</td>\n",
       "      <td>0.0</td>\n",
       "      <td>0.0</td>\n",
       "      <td>0.0</td>\n",
       "      <td>0.0</td>\n",
       "      <td>11.0</td>\n",
       "      <td>3.0</td>\n",
       "      <td>6.0</td>\n",
       "    </tr>\n",
       "    <tr>\n",
       "      <th>4</th>\n",
       "      <td>0.0</td>\n",
       "      <td>1.0</td>\n",
       "      <td>1.0</td>\n",
       "      <td>1.0</td>\n",
       "      <td>24.0</td>\n",
       "      <td>0.0</td>\n",
       "      <td>0.0</td>\n",
       "      <td>0.0</td>\n",
       "      <td>1.0</td>\n",
       "      <td>1.0</td>\n",
       "      <td>...</td>\n",
       "      <td>1.0</td>\n",
       "      <td>0.0</td>\n",
       "      <td>2.0</td>\n",
       "      <td>3.0</td>\n",
       "      <td>0.0</td>\n",
       "      <td>0.0</td>\n",
       "      <td>0.0</td>\n",
       "      <td>11.0</td>\n",
       "      <td>5.0</td>\n",
       "      <td>4.0</td>\n",
       "    </tr>\n",
       "  </tbody>\n",
       "</table>\n",
       "<p>5 rows × 22 columns</p>\n",
       "</div>"
      ],
      "text/plain": [
       "   HeartDiseaseorAttack  HighBP  HighChol  CholCheck   BMI  Smoker  Stroke  \\\n",
       "0                   0.0     1.0       1.0        1.0  40.0     1.0     0.0   \n",
       "1                   0.0     0.0       0.0        0.0  25.0     1.0     0.0   \n",
       "2                   0.0     1.0       1.0        1.0  28.0     0.0     0.0   \n",
       "3                   0.0     1.0       0.0        1.0  27.0     0.0     0.0   \n",
       "4                   0.0     1.0       1.0        1.0  24.0     0.0     0.0   \n",
       "\n",
       "   Diabetes  PhysActivity  Fruits  ...  AnyHealthcare  NoDocbcCost  GenHlth  \\\n",
       "0       0.0           0.0     0.0  ...            1.0          0.0      5.0   \n",
       "1       0.0           1.0     0.0  ...            0.0          1.0      3.0   \n",
       "2       0.0           0.0     1.0  ...            1.0          1.0      5.0   \n",
       "3       0.0           1.0     1.0  ...            1.0          0.0      2.0   \n",
       "4       0.0           1.0     1.0  ...            1.0          0.0      2.0   \n",
       "\n",
       "   MentHlth  PhysHlth  DiffWalk  Sex   Age  Education  Income  \n",
       "0      18.0      15.0       1.0  0.0   9.0        4.0     3.0  \n",
       "1       0.0       0.0       0.0  0.0   7.0        6.0     1.0  \n",
       "2      30.0      30.0       1.0  0.0   9.0        4.0     8.0  \n",
       "3       0.0       0.0       0.0  0.0  11.0        3.0     6.0  \n",
       "4       3.0       0.0       0.0  0.0  11.0        5.0     4.0  \n",
       "\n",
       "[5 rows x 22 columns]"
      ]
     },
     "execution_count": 3,
     "metadata": {},
     "output_type": "execute_result"
    }
   ],
   "source": [
    "#Código para cargar el Dataset\n",
    "enfermedadCardica= pd.read_csv('Heart.csv')\n",
    "enfermedadCardica.head() #presentando dataset"
   ]
  },
  {
   "cell_type": "markdown",
   "id": "93c30410",
   "metadata": {
    "id": "93c30410"
   },
   "source": [
    "## Descripción de la fuente del Dataset"
   ]
  },
  {
   "cell_type": "markdown",
   "id": "db6174bc",
   "metadata": {
    "id": "db6174bc"
   },
   "source": [
    "Se uso un dataset sobre conjunto de datos de indicadores de salud de enfermedades cardíacas, el cual se contiene características de una persona que tiene enfermedad cardiaca. De igual manera indica las características de una persona que no tiene enfermedad cardiaca\n",
    "https://www.kaggle.com/datasets/alexteboul/heart-disease-health-indicators-dataset\n",
    "\n",
    "HeartDiseaseorAttack= Si tiene enfermedad o no\n",
    "\n",
    "HighBP= PA Alto\n",
    "\n",
    "HighChol= Colesterol alto\n",
    "\n",
    "CholCheck= Chequeo de colestero\n",
    "\n",
    "BMI= IMC\n",
    "\n",
    "Smoker= Si fuma\n",
    "\n",
    "Stroke= Raza\n",
    "\n",
    "Diabetes= Diabetes\n",
    "\n",
    "PhysActivity= Actividad fisica\n",
    "\n",
    "Fruits= Si consume frutas\n",
    "\n",
    "Veggies= Si consume vegetales\n",
    "\n",
    "HvyAlcoholConsump=Si consume alchol\n",
    "\n",
    "AnyHealthcare= Si cuida si salud\n",
    "\n",
    "NoDocbcCost= El costo en medico\n",
    "\n",
    "GenHlth= Su genetica\n",
    "\n",
    "Sex= Sexo\n",
    "\n",
    "Age =Edad\n",
    "\n",
    "Education= Eduacion\n",
    "\n",
    "Income= Ingreso"
   ]
  },
  {
   "cell_type": "code",
   "execution_count": 4,
   "id": "VNO2izaBuMXC",
   "metadata": {
    "colab": {
     "base_uri": "https://localhost:8080/",
     "height": 394
    },
    "id": "VNO2izaBuMXC",
    "outputId": "fb2317c5-9ba5-4ca3-eeb6-bba1fe5af778"
   },
   "outputs": [
    {
     "data": {
      "text/html": [
       "<div>\n",
       "<style scoped>\n",
       "    .dataframe tbody tr th:only-of-type {\n",
       "        vertical-align: middle;\n",
       "    }\n",
       "\n",
       "    .dataframe tbody tr th {\n",
       "        vertical-align: top;\n",
       "    }\n",
       "\n",
       "    .dataframe thead th {\n",
       "        text-align: right;\n",
       "    }\n",
       "</style>\n",
       "<table border=\"1\" class=\"dataframe\">\n",
       "  <thead>\n",
       "    <tr style=\"text-align: right;\">\n",
       "      <th></th>\n",
       "      <th>HeartDiseaseorAttack</th>\n",
       "      <th>HighBP</th>\n",
       "      <th>HighChol</th>\n",
       "      <th>CholCheck</th>\n",
       "      <th>BMI</th>\n",
       "      <th>Smoker</th>\n",
       "      <th>Stroke</th>\n",
       "      <th>Diabetes</th>\n",
       "      <th>PhysActivity</th>\n",
       "      <th>Fruits</th>\n",
       "      <th>...</th>\n",
       "      <th>AnyHealthcare</th>\n",
       "      <th>NoDocbcCost</th>\n",
       "      <th>GenHlth</th>\n",
       "      <th>MentHlth</th>\n",
       "      <th>PhysHlth</th>\n",
       "      <th>DiffWalk</th>\n",
       "      <th>Sex</th>\n",
       "      <th>Age</th>\n",
       "      <th>Education</th>\n",
       "      <th>Income</th>\n",
       "    </tr>\n",
       "  </thead>\n",
       "  <tbody>\n",
       "    <tr>\n",
       "      <th>count</th>\n",
       "      <td>1580.000000</td>\n",
       "      <td>1580.000000</td>\n",
       "      <td>1580.000000</td>\n",
       "      <td>1580.000000</td>\n",
       "      <td>1580.000000</td>\n",
       "      <td>1580.000000</td>\n",
       "      <td>1580.000000</td>\n",
       "      <td>1580.000000</td>\n",
       "      <td>1580.000000</td>\n",
       "      <td>1580.000000</td>\n",
       "      <td>...</td>\n",
       "      <td>1580.000000</td>\n",
       "      <td>1580.000000</td>\n",
       "      <td>1580.000000</td>\n",
       "      <td>1580.000000</td>\n",
       "      <td>1580.000000</td>\n",
       "      <td>1580.000000</td>\n",
       "      <td>1580.000000</td>\n",
       "      <td>1580.000000</td>\n",
       "      <td>1580.000000</td>\n",
       "      <td>1580.000000</td>\n",
       "    </tr>\n",
       "    <tr>\n",
       "      <th>mean</th>\n",
       "      <td>0.131013</td>\n",
       "      <td>0.589241</td>\n",
       "      <td>0.527215</td>\n",
       "      <td>0.981646</td>\n",
       "      <td>29.246203</td>\n",
       "      <td>0.433544</td>\n",
       "      <td>0.062658</td>\n",
       "      <td>0.450000</td>\n",
       "      <td>0.663291</td>\n",
       "      <td>0.572785</td>\n",
       "      <td>...</td>\n",
       "      <td>0.960127</td>\n",
       "      <td>0.105696</td>\n",
       "      <td>2.861392</td>\n",
       "      <td>3.779114</td>\n",
       "      <td>5.524051</td>\n",
       "      <td>0.291139</td>\n",
       "      <td>0.341139</td>\n",
       "      <td>9.034810</td>\n",
       "      <td>4.782911</td>\n",
       "      <td>5.392405</td>\n",
       "    </tr>\n",
       "    <tr>\n",
       "      <th>std</th>\n",
       "      <td>0.337521</td>\n",
       "      <td>0.492127</td>\n",
       "      <td>0.499417</td>\n",
       "      <td>0.134272</td>\n",
       "      <td>6.244502</td>\n",
       "      <td>0.495721</td>\n",
       "      <td>0.242424</td>\n",
       "      <td>0.824364</td>\n",
       "      <td>0.472734</td>\n",
       "      <td>0.494831</td>\n",
       "      <td>...</td>\n",
       "      <td>0.195724</td>\n",
       "      <td>0.307546</td>\n",
       "      <td>1.119420</td>\n",
       "      <td>8.030811</td>\n",
       "      <td>9.801581</td>\n",
       "      <td>0.454431</td>\n",
       "      <td>0.474242</td>\n",
       "      <td>2.670303</td>\n",
       "      <td>1.041428</td>\n",
       "      <td>2.197170</td>\n",
       "    </tr>\n",
       "    <tr>\n",
       "      <th>min</th>\n",
       "      <td>0.000000</td>\n",
       "      <td>0.000000</td>\n",
       "      <td>0.000000</td>\n",
       "      <td>0.000000</td>\n",
       "      <td>16.000000</td>\n",
       "      <td>0.000000</td>\n",
       "      <td>0.000000</td>\n",
       "      <td>0.000000</td>\n",
       "      <td>0.000000</td>\n",
       "      <td>0.000000</td>\n",
       "      <td>...</td>\n",
       "      <td>0.000000</td>\n",
       "      <td>0.000000</td>\n",
       "      <td>1.000000</td>\n",
       "      <td>0.000000</td>\n",
       "      <td>0.000000</td>\n",
       "      <td>0.000000</td>\n",
       "      <td>0.000000</td>\n",
       "      <td>1.000000</td>\n",
       "      <td>1.000000</td>\n",
       "      <td>1.000000</td>\n",
       "    </tr>\n",
       "    <tr>\n",
       "      <th>25%</th>\n",
       "      <td>0.000000</td>\n",
       "      <td>0.000000</td>\n",
       "      <td>0.000000</td>\n",
       "      <td>1.000000</td>\n",
       "      <td>25.000000</td>\n",
       "      <td>0.000000</td>\n",
       "      <td>0.000000</td>\n",
       "      <td>0.000000</td>\n",
       "      <td>0.000000</td>\n",
       "      <td>0.000000</td>\n",
       "      <td>...</td>\n",
       "      <td>1.000000</td>\n",
       "      <td>0.000000</td>\n",
       "      <td>2.000000</td>\n",
       "      <td>0.000000</td>\n",
       "      <td>0.000000</td>\n",
       "      <td>0.000000</td>\n",
       "      <td>0.000000</td>\n",
       "      <td>7.000000</td>\n",
       "      <td>4.000000</td>\n",
       "      <td>4.000000</td>\n",
       "    </tr>\n",
       "    <tr>\n",
       "      <th>50%</th>\n",
       "      <td>0.000000</td>\n",
       "      <td>1.000000</td>\n",
       "      <td>1.000000</td>\n",
       "      <td>1.000000</td>\n",
       "      <td>28.000000</td>\n",
       "      <td>0.000000</td>\n",
       "      <td>0.000000</td>\n",
       "      <td>0.000000</td>\n",
       "      <td>1.000000</td>\n",
       "      <td>1.000000</td>\n",
       "      <td>...</td>\n",
       "      <td>1.000000</td>\n",
       "      <td>0.000000</td>\n",
       "      <td>3.000000</td>\n",
       "      <td>0.000000</td>\n",
       "      <td>0.000000</td>\n",
       "      <td>0.000000</td>\n",
       "      <td>0.000000</td>\n",
       "      <td>9.000000</td>\n",
       "      <td>5.000000</td>\n",
       "      <td>6.000000</td>\n",
       "    </tr>\n",
       "    <tr>\n",
       "      <th>75%</th>\n",
       "      <td>0.000000</td>\n",
       "      <td>1.000000</td>\n",
       "      <td>1.000000</td>\n",
       "      <td>1.000000</td>\n",
       "      <td>32.000000</td>\n",
       "      <td>1.000000</td>\n",
       "      <td>0.000000</td>\n",
       "      <td>0.000000</td>\n",
       "      <td>1.000000</td>\n",
       "      <td>1.000000</td>\n",
       "      <td>...</td>\n",
       "      <td>1.000000</td>\n",
       "      <td>0.000000</td>\n",
       "      <td>4.000000</td>\n",
       "      <td>3.000000</td>\n",
       "      <td>5.000000</td>\n",
       "      <td>1.000000</td>\n",
       "      <td>1.000000</td>\n",
       "      <td>11.000000</td>\n",
       "      <td>6.000000</td>\n",
       "      <td>7.000000</td>\n",
       "    </tr>\n",
       "    <tr>\n",
       "      <th>max</th>\n",
       "      <td>1.000000</td>\n",
       "      <td>1.000000</td>\n",
       "      <td>1.000000</td>\n",
       "      <td>1.000000</td>\n",
       "      <td>59.000000</td>\n",
       "      <td>1.000000</td>\n",
       "      <td>1.000000</td>\n",
       "      <td>2.000000</td>\n",
       "      <td>1.000000</td>\n",
       "      <td>1.000000</td>\n",
       "      <td>...</td>\n",
       "      <td>1.000000</td>\n",
       "      <td>1.000000</td>\n",
       "      <td>5.000000</td>\n",
       "      <td>30.000000</td>\n",
       "      <td>30.000000</td>\n",
       "      <td>1.000000</td>\n",
       "      <td>1.000000</td>\n",
       "      <td>13.000000</td>\n",
       "      <td>6.000000</td>\n",
       "      <td>8.000000</td>\n",
       "    </tr>\n",
       "  </tbody>\n",
       "</table>\n",
       "<p>8 rows × 22 columns</p>\n",
       "</div>"
      ],
      "text/plain": [
       "       HeartDiseaseorAttack       HighBP     HighChol    CholCheck  \\\n",
       "count           1580.000000  1580.000000  1580.000000  1580.000000   \n",
       "mean               0.131013     0.589241     0.527215     0.981646   \n",
       "std                0.337521     0.492127     0.499417     0.134272   \n",
       "min                0.000000     0.000000     0.000000     0.000000   \n",
       "25%                0.000000     0.000000     0.000000     1.000000   \n",
       "50%                0.000000     1.000000     1.000000     1.000000   \n",
       "75%                0.000000     1.000000     1.000000     1.000000   \n",
       "max                1.000000     1.000000     1.000000     1.000000   \n",
       "\n",
       "               BMI       Smoker       Stroke     Diabetes  PhysActivity  \\\n",
       "count  1580.000000  1580.000000  1580.000000  1580.000000   1580.000000   \n",
       "mean     29.246203     0.433544     0.062658     0.450000      0.663291   \n",
       "std       6.244502     0.495721     0.242424     0.824364      0.472734   \n",
       "min      16.000000     0.000000     0.000000     0.000000      0.000000   \n",
       "25%      25.000000     0.000000     0.000000     0.000000      0.000000   \n",
       "50%      28.000000     0.000000     0.000000     0.000000      1.000000   \n",
       "75%      32.000000     1.000000     0.000000     0.000000      1.000000   \n",
       "max      59.000000     1.000000     1.000000     2.000000      1.000000   \n",
       "\n",
       "            Fruits  ...  AnyHealthcare  NoDocbcCost      GenHlth     MentHlth  \\\n",
       "count  1580.000000  ...    1580.000000  1580.000000  1580.000000  1580.000000   \n",
       "mean      0.572785  ...       0.960127     0.105696     2.861392     3.779114   \n",
       "std       0.494831  ...       0.195724     0.307546     1.119420     8.030811   \n",
       "min       0.000000  ...       0.000000     0.000000     1.000000     0.000000   \n",
       "25%       0.000000  ...       1.000000     0.000000     2.000000     0.000000   \n",
       "50%       1.000000  ...       1.000000     0.000000     3.000000     0.000000   \n",
       "75%       1.000000  ...       1.000000     0.000000     4.000000     3.000000   \n",
       "max       1.000000  ...       1.000000     1.000000     5.000000    30.000000   \n",
       "\n",
       "          PhysHlth     DiffWalk          Sex          Age    Education  \\\n",
       "count  1580.000000  1580.000000  1580.000000  1580.000000  1580.000000   \n",
       "mean      5.524051     0.291139     0.341139     9.034810     4.782911   \n",
       "std       9.801581     0.454431     0.474242     2.670303     1.041428   \n",
       "min       0.000000     0.000000     0.000000     1.000000     1.000000   \n",
       "25%       0.000000     0.000000     0.000000     7.000000     4.000000   \n",
       "50%       0.000000     0.000000     0.000000     9.000000     5.000000   \n",
       "75%       5.000000     1.000000     1.000000    11.000000     6.000000   \n",
       "max      30.000000     1.000000     1.000000    13.000000     6.000000   \n",
       "\n",
       "            Income  \n",
       "count  1580.000000  \n",
       "mean      5.392405  \n",
       "std       2.197170  \n",
       "min       1.000000  \n",
       "25%       4.000000  \n",
       "50%       6.000000  \n",
       "75%       7.000000  \n",
       "max       8.000000  \n",
       "\n",
       "[8 rows x 22 columns]"
      ]
     },
     "execution_count": 4,
     "metadata": {},
     "output_type": "execute_result"
    }
   ],
   "source": [
    "#describiendo las caracteristicas anteriormente mencionadas\n",
    "enfermedadCardica.describe()"
   ]
  },
  {
   "cell_type": "markdown",
   "id": "7f868eab",
   "metadata": {
    "id": "7f868eab"
   },
   "source": [
    "## Explique el problema a resolver. \n",
    "\n",
    "El problema a tratar son las personas con enfermedaes caridacas y su estilo de vida, para ello en el dataset la variable objetivo es HeartDiseaseorAttack que representa si tiene una enfermedad cardica. Mientras que las variables de entrada son  HighBP               \n",
    " HighChol             \n",
    " 2   CholCheck            \n",
    " BMI                  \n",
    "Smoker               \n",
    "Stroke               \n",
    " Diabetes             \n",
    " PhysActivity         \n",
    " Veggies              \n",
    " HvyAlcoholConsump    \n",
    "AnyHealthcare        \n",
    " NoDocbcCost          \n",
    " GenHlth              \n",
    " MentHlth             \n",
    "PhysHlth             \n",
    " DiffWalk             \n",
    " Sex                  \n",
    "Age                  \n",
    " Education            \n",
    " Income  "
   ]
  },
  {
   "cell_type": "markdown",
   "id": "a0b719c1",
   "metadata": {
    "id": "a0b719c1"
   },
   "source": [
    "## Caracterización del Dataset\n",
    "\n",
    "Realice una descripción de los datos con:\n",
    "\n",
    ">- Número de instancias en total.\n",
    ">- Número de atributos de entrada, su significado y tipo.\n",
    ">- Estadísticas de la variable objetivo.\n",
    ">- Estadísticas los atributos en relación con la variable objetivo.\n"
   ]
  },
  {
   "cell_type": "code",
   "execution_count": 5,
   "id": "2f0ed5d2",
   "metadata": {
    "colab": {
     "base_uri": "https://localhost:8080/"
    },
    "id": "2f0ed5d2",
    "outputId": "0e0e621b-9c58-4b58-ca67-5810a076c3f8"
   },
   "outputs": [
    {
     "data": {
      "text/plain": [
       "HeartDiseaseorAttack    1580\n",
       "HighBP                  1580\n",
       "HighChol                1580\n",
       "CholCheck               1580\n",
       "BMI                     1580\n",
       "Smoker                  1580\n",
       "Stroke                  1580\n",
       "Diabetes                1580\n",
       "PhysActivity            1580\n",
       "Fruits                  1580\n",
       "Veggies                 1580\n",
       "HvyAlcoholConsump       1580\n",
       "AnyHealthcare           1580\n",
       "NoDocbcCost             1580\n",
       "GenHlth                 1580\n",
       "MentHlth                1580\n",
       "PhysHlth                1580\n",
       "DiffWalk                1580\n",
       "Sex                     1580\n",
       "Age                     1580\n",
       "Education               1580\n",
       "Income                  1580\n",
       "dtype: int64"
      ]
     },
     "execution_count": 5,
     "metadata": {},
     "output_type": "execute_result"
    }
   ],
   "source": [
    "#Código que responde a la descripción anterior\n",
    "#Número de instancias en total.\n",
    "enfermedadCardica.count()"
   ]
  },
  {
   "cell_type": "code",
   "execution_count": 6,
   "id": "29NC0NEiuUWD",
   "metadata": {
    "colab": {
     "base_uri": "https://localhost:8080/"
    },
    "id": "29NC0NEiuUWD",
    "outputId": "9fcfc520-0016-432f-bb62-ba365205da05"
   },
   "outputs": [
    {
     "name": "stdout",
     "output_type": "stream",
     "text": [
      "<class 'pandas.core.frame.DataFrame'>\n",
      "RangeIndex: 1580 entries, 0 to 1579\n",
      "Data columns (total 21 columns):\n",
      " #   Column             Non-Null Count  Dtype  \n",
      "---  ------             --------------  -----  \n",
      " 0   HighBP             1580 non-null   float64\n",
      " 1   HighChol           1580 non-null   float64\n",
      " 2   CholCheck          1580 non-null   float64\n",
      " 3   BMI                1580 non-null   float64\n",
      " 4   Smoker             1580 non-null   float64\n",
      " 5   Stroke             1580 non-null   float64\n",
      " 6   Diabetes           1580 non-null   float64\n",
      " 7   PhysActivity       1580 non-null   float64\n",
      " 8   Fruits             1580 non-null   float64\n",
      " 9   Veggies            1580 non-null   float64\n",
      " 10  HvyAlcoholConsump  1580 non-null   float64\n",
      " 11  AnyHealthcare      1580 non-null   float64\n",
      " 12  NoDocbcCost        1580 non-null   float64\n",
      " 13  GenHlth            1580 non-null   float64\n",
      " 14  MentHlth           1580 non-null   float64\n",
      " 15  PhysHlth           1580 non-null   float64\n",
      " 16  DiffWalk           1580 non-null   float64\n",
      " 17  Sex                1580 non-null   float64\n",
      " 18  Age                1580 non-null   float64\n",
      " 19  Education          1580 non-null   float64\n",
      " 20  Income             1580 non-null   float64\n",
      "dtypes: float64(21)\n",
      "memory usage: 259.3 KB\n"
     ]
    }
   ],
   "source": [
    "#Número de atributos de entrada, su significado y tipo.\n",
    "enfermedadCardica.drop('HeartDiseaseorAttack', axis=1).info()"
   ]
  },
  {
   "cell_type": "markdown",
   "id": "a7ab5e48",
   "metadata": {
    "id": "a7ab5e48"
   },
   "source": [
    "En un par de párrafos haga un resumen de los principales hallazagos encontrados:    "
   ]
  },
  {
   "cell_type": "markdown",
   "id": "0a19e6af",
   "metadata": {
    "id": "0a19e6af"
   },
   "source": [
    "## Preprocesamiento del dataset. Transformaciones previas necesarias para la modelación"
   ]
  },
  {
   "cell_type": "code",
   "execution_count": 7,
   "id": "5a24dac4",
   "metadata": {
    "id": "5a24dac4"
   },
   "outputs": [],
   "source": [
    "#Transformación de las caracteristicas (mire el apartado Feature engineering del aula virtual)\n"
   ]
  },
  {
   "cell_type": "markdown",
   "id": "49815fde",
   "metadata": {
    "ExecuteTime": {
     "end_time": "2022-03-14T15:56:34.366469Z",
     "start_time": "2022-03-14T15:56:34.358471Z"
    },
    "id": "49815fde"
   },
   "source": [
    "## División del dataset en datos de entrenamiento y datos de test "
   ]
  },
  {
   "cell_type": "code",
   "execution_count": 8,
   "id": "6f26d21e",
   "metadata": {
    "colab": {
     "base_uri": "https://localhost:8080/"
    },
    "id": "6f26d21e",
    "outputId": "40d102d2-186c-4940-be7c-305c2a0b2d03"
   },
   "outputs": [
    {
     "data": {
      "text/plain": [
       "((1106, 21), (474, 21))"
      ]
     },
     "execution_count": 8,
     "metadata": {},
     "output_type": "execute_result"
    }
   ],
   "source": [
    "#Código que realice la división en entrenamiento y test, de acuerdo con la estretgia de evaluación planeada. Describa cuál es.\n",
    "# separando los datos de entrenamiento y prueba\n",
    "X_entrenamiento, X_prueba, y_entrenamiento, y_prueba = train_test_split(enfermedadCardica.drop('HeartDiseaseorAttack', axis=1),\n",
    "                                                    enfermedadCardica['HeartDiseaseorAttack'],\n",
    "                                                    test_size=0.3,\n",
    "                                                    random_state=0) #declarando las características de cada entrenamiento y prueba\n",
    "\n",
    "X_entrenamiento.shape, X_prueba.shape #Presnetnado las divisiones"
   ]
  },
  {
   "cell_type": "markdown",
   "id": "6319adad",
   "metadata": {
    "id": "6319adad"
   },
   "source": [
    "## Modelamiento"
   ]
  },
  {
   "cell_type": "code",
   "execution_count": 9,
   "id": "d5d2b2c6",
   "metadata": {
    "id": "d5d2b2c6"
   },
   "outputs": [],
   "source": [
    "#Códo del modelo\n",
    "clf = svm.SVC(kernel='linear')"
   ]
  },
  {
   "cell_type": "code",
   "execution_count": 10,
   "id": "q3AwgR6oy73a",
   "metadata": {
    "id": "q3AwgR6oy73a"
   },
   "outputs": [
    {
     "data": {
      "text/plain": [
       "SVC(kernel='linear')"
      ]
     },
     "execution_count": 10,
     "metadata": {},
     "output_type": "execute_result"
    }
   ],
   "source": [
    "#Entrenamiento\n",
    "clf.fit(X_entrenamiento, y_entrenamiento)"
   ]
  },
  {
   "cell_type": "code",
   "execution_count": 11,
   "id": "a2e675b3",
   "metadata": {
    "id": "a2e675b3"
   },
   "outputs": [],
   "source": [
    "#Test\n",
    "y_pred = clf.predict(X_prueba)"
   ]
  },
  {
   "cell_type": "code",
   "execution_count": 13,
   "id": "0ZznWdn3xNmr",
   "metadata": {
    "id": "0ZznWdn3xNmr"
   },
   "outputs": [
    {
     "name": "stdout",
     "output_type": "stream",
     "text": [
      "Accuracy: 0.8670886075949367\n",
      "Precision: 0.0\n",
      "Recall: 0.0\n"
     ]
    },
    {
     "name": "stderr",
     "output_type": "stream",
     "text": [
      "C:\\Users\\ESTUDIANTE\\anaconda3\\lib\\site-packages\\sklearn\\metrics\\_classification.py:1318: UndefinedMetricWarning: Precision is ill-defined and being set to 0.0 due to no predicted samples. Use `zero_division` parameter to control this behavior.\n",
      "  _warn_prf(average, modifier, msg_start, len(result))\n"
     ]
    }
   ],
   "source": [
    "print(\"Accuracy:\", metrics.accuracy_score(y_prueba, y_pred))\n",
    "\n",
    "\n",
    "print(\"Precision:\", metrics.precision_score(y_prueba, y_pred))\n",
    "\n",
    "\n",
    "print(\"Recall:\", metrics.recall_score(y_prueba, y_pred))  "
   ]
  },
  {
   "cell_type": "markdown",
   "id": "9c2239f5",
   "metadata": {
    "id": "9c2239f5"
   },
   "source": [
    "## Evaluación del Modelo"
   ]
  },
  {
   "cell_type": "markdown",
   "id": "ad219a0c",
   "metadata": {
    "id": "ad219a0c"
   },
   "source": [
    "Construya un o dos párrafos con los principales hallazgos. Cómo está funcionando el modelo? Calidad en los resultados de predicción. "
   ]
  },
  {
   "cell_type": "markdown",
   "id": "623cc48c",
   "metadata": {
    "id": "28b14a2f"
   },
   "source": [
    "En el trabajo realizado con el dataset de conjunto de datos de indicadores de salud de enfermedades cardíacas, se ha obtenido un Accuracy de 0.8, lo que según lo indicado esta correcto. Esto se debe a que según los parámetros no debe de pasar de 1. Cabe recalcar que se ha usado el modelo Support Vector Machine  (SVM según sus siglas en ingles). Tal vez con otro modelo cambie de alguna manera el Accurancy."
   ]
  },
  {
   "cell_type": "code",
   "execution_count": null,
   "id": "9173aa34",
   "metadata": {},
   "outputs": [],
   "source": []
  }
 ],
 "metadata": {
  "colab": {
   "collapsed_sections": [],
   "name": "Copia de Notebook_Base.ipynb",
   "provenance": []
  },
  "kernelspec": {
   "display_name": "Python 3 (ipykernel)",
   "language": "python",
   "name": "python3"
  },
  "language_info": {
   "codemirror_mode": {
    "name": "ipython",
    "version": 3
   },
   "file_extension": ".py",
   "mimetype": "text/x-python",
   "name": "python",
   "nbconvert_exporter": "python",
   "pygments_lexer": "ipython3",
   "version": "3.9.12"
  },
  "toc": {
   "base_numbering": 1,
   "nav_menu": {},
   "number_sections": true,
   "sideBar": true,
   "skip_h1_title": true,
   "title_cell": "Tabla de Contenido",
   "title_sidebar": "Contenido",
   "toc_cell": false,
   "toc_position": {
    "height": "calc(100% - 180px)",
    "left": "10px",
    "top": "150px",
    "width": "263.591px"
   },
   "toc_section_display": true,
   "toc_window_display": true
  }
 },
 "nbformat": 4,
 "nbformat_minor": 5
}
